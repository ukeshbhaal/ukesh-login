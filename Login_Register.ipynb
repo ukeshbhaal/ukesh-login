{
  "nbformat": 4,
  "nbformat_minor": 0,
  "metadata": {
    "colab": {
      "provenance": [],
      "collapsed_sections": [],
      "authorship_tag": "ABX9TyOw3LEam/IZ1rYtlcRS/y/g",
      "include_colab_link": true
    },
    "kernelspec": {
      "name": "python3",
      "display_name": "Python 3"
    },
    "language_info": {
      "name": "python"
    }
  },
  "cells": [
    {
      "cell_type": "markdown",
      "metadata": {
        "id": "view-in-github",
        "colab_type": "text"
      },
      "source": [
        "<a href=\"https://colab.research.google.com/github/ukeshbhaal/ukesh-login/blob/main/Login_Register.ipynb\" target=\"_parent\"><img src=\"https://colab.research.google.com/assets/colab-badge.svg\" alt=\"Open In Colab\"/></a>"
      ]
    },
    {
      "cell_type": "code",
      "source": [
        "#1Task_1  editable\n",
        "import re\n",
        "def home():\n",
        "    option=input(\"Register or login \\n\")\n",
        "    if(option==\"Login\" or option==\"login\"):\n",
        "        login()\n",
        "    elif option==\"register\" or option==\"Register\":\n",
        "        register()\n",
        "    else:\n",
        "        print(\"Please choose the Login option - 'If you have the account already' or else please choose 'Register' to register new account\")\n",
        "        home() \n",
        "        #user may enter other option which is not required or speeling mistake so this last else part\n",
        "def register():\n",
        "    db=open(\"/content/sample_data/database.txt\",'a')\n",
        "    print(\"To Register newly, Enter your New Email ID -\")\n",
        "    user_email=input()\n",
        "    p=input(\"Enter your password with 1 lower, 1 upper , 1 digit 1 special character within 6-15 characters \\n\")\n",
        "    d=[]\n",
        "    f=[]\n",
        "    db=open(\"/content/sample_data/database.txt\",'r')\n",
        "    for i in db:\n",
        "     a,b=i.split(\", \")\n",
        "     b=b.strip()\n",
        "     d.append(a)\n",
        "     f.append(b)\n",
        "    data=dict(zip(d,f))\n",
        "    if user_email in d:\n",
        "      #To check if new email is already exists or not\n",
        "      print(\"Enter a new email ID, since this Email ID already Exists\")\n",
        "      register()\n",
        "    else:\n",
        "      email_condition=\"^[a-z A-Z]+[\\._]?[a-z A-Z 0-9 \\._-]+[@]\\w+[A-Z a-z]+[.][A-Z a-z]{2,3}$\"\n",
        "      if re.search(email_condition,user_email):\n",
        "        print(\"This is Valid Email\") \n",
        "        p1=\"^(?=.*[a-z])(?=.*[A-Z])(?=.*[0-9])(?=.*[^A-Za-z0-9])(?=.{6,16})\"\n",
        "        if re.match(p1,p) and  5<len(p)<16:\n",
        "          print(\"This is Valid Password\")            \n",
        "          dp=open(\"/content/sample_data/database.txt\",'a')\n",
        "          dp.write(user_email+\", \"+p+\"\\n\")\n",
        "          print(\"yes, successfully stored\\n\")  \n",
        "        else:\n",
        "          print(\"Invalid password, Please enter a valid password with 1 number, 1 lowercase, 1 upper case, 1 special character within 6 to 15 characters \\n\")\n",
        "          register()\n",
        "      else:\n",
        "        print(\"Invalid Email ID, Please Enter Valid Email -ID in correct format \\n\")\n",
        "        register()             \n",
        "def login():\n",
        "    user_email=input(\"Enter your email ID:\\n\")\n",
        "    p=input(\"Enter your password:\")\n",
        "    z=len(user_email)\n",
        "    p1=len(p)\n",
        "    if (z>1) and (p1>1):\n",
        "        db=open(\"/content/sample_data/database.txt\",'r')\n",
        "        d=[]\n",
        "        f=[]\n",
        "        for i in db:\n",
        "            a,b=i.split(\", \")\n",
        "            b=b.strip()\n",
        "            d.append(a)          \n",
        "            f.append(b)\n",
        "        data=dict(zip(d,f))\n",
        "        if user_email in d:\n",
        "          try:\n",
        "            if p==data[user_email]:\n",
        "                            print(\"Login success\")\n",
        "                            print(\"Hi \", user_email)\n",
        "            else:\n",
        "              print(\"1.wrong password\\n \")\n",
        "              print(\"Forgot passord ? - y or n\")\n",
        "              f_p=input()\n",
        "              if f_p=='y'or f_p=='Y':\n",
        "                print(\"\\nYour passowrd is \\n\",data[user_email])\n",
        "              else:\n",
        "                login() \n",
        "          except:\n",
        "            print(\"2.wrong user email ID or password\\n\")  \n",
        "        else:\n",
        "          print(\"3.User Email doesn't exsit\\n\")\n",
        "          register()        \n",
        "    else:\n",
        "        print(\"5.Please enter valid username or password\\n\")\n",
        "        login()\n",
        "home()                "
      ],
      "metadata": {
        "id": "S5hCRKhB5KC4"
      },
      "execution_count": null,
      "outputs": []
    }
  ]
}